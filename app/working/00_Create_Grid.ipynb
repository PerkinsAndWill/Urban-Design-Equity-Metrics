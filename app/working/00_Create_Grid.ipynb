{
  "cells": [
    {
      "cell_type": "code",
      "execution_count": null,
      "id": "06c54985-5b93-40c2-b13e-f90113a9fdda",
      "metadata": {
        "id": "06c54985-5b93-40c2-b13e-f90113a9fdda"
      },
      "outputs": [],
      "source": [
        "from shapely import geometry\n",
        "import geopandas as gpd\n",
        "import folium"
      ]
    },
    {
      "cell_type": "code",
      "execution_count": null,
      "id": "2d4adaf5-c88c-4d96-89d0-7a443bee9f9b",
      "metadata": {
        "id": "2d4adaf5-c88c-4d96-89d0-7a443bee9f9b"
      },
      "outputs": [],
      "source": [
        " #This is a test edit\n",
        "def create_grid(lat, lng, radius, grid_size):\n",
        "    # point from lat, lng\n",
        "    points_gdf = gpd.points_from_xy(lat, lng)\n",
        "\n",
        "    # boundary file\n",
        "    boundary = points_gdf.buffer(radius)\n",
        "\n",
        "    # Get the extent of the shapefile\n",
        "    # Get minX, minY, maxX, maxY\n",
        "    minX, minY, maxX, maxY = boundary.total_bounds\n",
        "\n",
        "    # Create a fishnet\n",
        "    x, y = (minX, minY)\n",
        "    geom_array = []\n",
        "\n",
        "    while y <= maxY:\n",
        "        while x <= maxX:\n",
        "            geom = geometry.Polygon([(x,y), (x, y+grid_size), (x+grid_size, y+grid_size), (x+grid_size, y), (x, y)])\n",
        "            geom_array.append(geom)\n",
        "            x += grid_size\n",
        "        x = minX\n",
        "        y += grid_size\n",
        "\n",
        "    fishnet = gpd.GeoDataFrame(geom_array, columns=['geometry']).set_crs(boundary.crs)\n",
        "    grid_gdf = fishnet.sjoin(boundary, how = 'inner')\n",
        "    return grid_gdf"
      ]
    },
    {
      "cell_type": "code",
      "execution_count": null,
      "id": "71db3a94-92c6-418a-915b-0ee601f439b4",
      "metadata": {
        "id": "71db3a94-92c6-418a-915b-0ee601f439b4"
      },
      "outputs": [],
      "source": [
        "import pandas as pd\n",
        "df = pd.DataFrame({'lat': [37.49745808488778], 'lng': [-122.24989833795438]})"
      ]
    },
    {
      "cell_type": "code",
      "execution_count": null,
      "id": "6305aa4b-7332-4971-ad9c-4a3d639bfca1",
      "metadata": {
        "id": "6305aa4b-7332-4971-ad9c-4a3d639bfca1"
      },
      "outputs": [],
      "source": [
        "point = gpd.GeoDataFrame(df, geometry=gpd.points_from_xy(df['lng'], df['lat'],crs=\"EPSG:4326\"))"
      ]
    },
    {
      "cell_type": "code",
      "execution_count": null,
      "id": "e6e6ef45-b218-4c20-a32b-f52197b29883",
      "metadata": {
        "id": "e6e6ef45-b218-4c20-a32b-f52197b29883"
      },
      "outputs": [],
      "source": [
        "# boundary file\n",
        "# distance in meters\n",
        "boundary = point.to_crs('EPSG:3857').buffer(distance = 800)"
      ]
    },
    {
      "cell_type": "code",
      "execution_count": null,
      "id": "98804ce2-617f-4d23-bdf1-8b76e5e72a50",
      "metadata": {
        "id": "98804ce2-617f-4d23-bdf1-8b76e5e72a50",
        "outputId": "5d84c9bc-4334-410e-968a-8b6714219576"
      },
      "outputs": [
        {
          "data": {
            "text/html": [
              "<div style=\"width:100%;\"><div style=\"position:relative;width:100%;height:0;padding-bottom:60%;\"><span style=\"color:#565656\">Make this Notebook Trusted to load map: File -> Trust Notebook</span><iframe srcdoc=\"&lt;!DOCTYPE html&gt;\n",
              "&lt;head&gt;    \n",
              "    &lt;meta http-equiv=&quot;content-type&quot; content=&quot;text/html; charset=UTF-8&quot; /&gt;\n",
              "    \n",
              "        &lt;script&gt;\n",
              "            L_NO_TOUCH = false;\n",
              "            L_DISABLE_3D = false;\n",
              "        &lt;/script&gt;\n",
              "    \n",
              "    &lt;style&gt;html, body {width: 100%;height: 100%;margin: 0;padding: 0;}&lt;/style&gt;\n",
              "    &lt;style&gt;#map {position:absolute;top:0;bottom:0;right:0;left:0;}&lt;/style&gt;\n",
              "    &lt;script src=&quot;https://cdn.jsdelivr.net/npm/leaflet@1.6.0/dist/leaflet.js&quot;&gt;&lt;/script&gt;\n",
              "    &lt;script src=&quot;https://code.jquery.com/jquery-1.12.4.min.js&quot;&gt;&lt;/script&gt;\n",
              "    &lt;script src=&quot;https://maxcdn.bootstrapcdn.com/bootstrap/3.2.0/js/bootstrap.min.js&quot;&gt;&lt;/script&gt;\n",
              "    &lt;script src=&quot;https://cdnjs.cloudflare.com/ajax/libs/Leaflet.awesome-markers/2.0.2/leaflet.awesome-markers.js&quot;&gt;&lt;/script&gt;\n",
              "    &lt;link rel=&quot;stylesheet&quot; href=&quot;https://cdn.jsdelivr.net/npm/leaflet@1.6.0/dist/leaflet.css&quot;/&gt;\n",
              "    &lt;link rel=&quot;stylesheet&quot; href=&quot;https://maxcdn.bootstrapcdn.com/bootstrap/3.2.0/css/bootstrap.min.css&quot;/&gt;\n",
              "    &lt;link rel=&quot;stylesheet&quot; href=&quot;https://maxcdn.bootstrapcdn.com/bootstrap/3.2.0/css/bootstrap-theme.min.css&quot;/&gt;\n",
              "    &lt;link rel=&quot;stylesheet&quot; href=&quot;https://maxcdn.bootstrapcdn.com/font-awesome/4.6.3/css/font-awesome.min.css&quot;/&gt;\n",
              "    &lt;link rel=&quot;stylesheet&quot; href=&quot;https://cdnjs.cloudflare.com/ajax/libs/Leaflet.awesome-markers/2.0.2/leaflet.awesome-markers.css&quot;/&gt;\n",
              "    &lt;link rel=&quot;stylesheet&quot; href=&quot;https://cdn.jsdelivr.net/gh/python-visualization/folium/folium/templates/leaflet.awesome.rotate.min.css&quot;/&gt;\n",
              "    \n",
              "            &lt;meta name=&quot;viewport&quot; content=&quot;width=device-width,\n",
              "                initial-scale=1.0, maximum-scale=1.0, user-scalable=no&quot; /&gt;\n",
              "            &lt;style&gt;\n",
              "                #map_754cfb2a1daffd8dbad6e48fbb6a6835 {\n",
              "                    position: relative;\n",
              "                    width: 100.0%;\n",
              "                    height: 100.0%;\n",
              "                    left: 0.0%;\n",
              "                    top: 0.0%;\n",
              "                }\n",
              "            &lt;/style&gt;\n",
              "        \n",
              "&lt;/head&gt;\n",
              "&lt;body&gt;    \n",
              "    \n",
              "            &lt;div class=&quot;folium-map&quot; id=&quot;map_754cfb2a1daffd8dbad6e48fbb6a6835&quot; &gt;&lt;/div&gt;\n",
              "        \n",
              "&lt;/body&gt;\n",
              "&lt;script&gt;    \n",
              "    \n",
              "            var map_754cfb2a1daffd8dbad6e48fbb6a6835 = L.map(\n",
              "                &quot;map_754cfb2a1daffd8dbad6e48fbb6a6835&quot;,\n",
              "                {\n",
              "                    center: [37.49745786722289, -122.24989833795436],\n",
              "                    crs: L.CRS.EPSG3857,\n",
              "                    zoom: 10,\n",
              "                    zoomControl: true,\n",
              "                    preferCanvas: false,\n",
              "                }\n",
              "            );\n",
              "            L.control.scale().addTo(map_754cfb2a1daffd8dbad6e48fbb6a6835);\n",
              "\n",
              "            \n",
              "\n",
              "        \n",
              "    \n",
              "            var tile_layer_c3202b733e24836a8e715ff0d21ba8c7 = L.tileLayer(\n",
              "                &quot;https://a.basemaps.cartocdn.com/light_all/{z}/{x}/{y}{r}.png&quot;,\n",
              "                {&quot;attribution&quot;: &quot;\\u0026copy; \\u003ca href=\\&quot;https://www.openstreetmap.org/copyright\\&quot;\\u003eOpenStreetMap\\u003c/a\\u003e contributors \\u0026copy; \\u003ca href=\\&quot;https://carto.com/attributions\\&quot;\\u003eCARTO\\u003c/a\\u003e&quot;, &quot;detectRetina&quot;: false, &quot;maxNativeZoom&quot;: 20, &quot;maxZoom&quot;: 20, &quot;minZoom&quot;: 0, &quot;noWrap&quot;: false, &quot;opacity&quot;: 1, &quot;subdomains&quot;: &quot;abc&quot;, &quot;tms&quot;: false}\n",
              "            ).addTo(map_754cfb2a1daffd8dbad6e48fbb6a6835);\n",
              "        \n",
              "    \n",
              "            map_754cfb2a1daffd8dbad6e48fbb6a6835.fitBounds(\n",
              "                [[37.49175622169153, -122.25708486022732], [37.50315951275425, -122.2427118156814]],\n",
              "                {}\n",
              "            );\n",
              "        \n",
              "    \n",
              "        function geo_json_4361b8c7c1b1c2d105c0db1437bad000_styler(feature) {\n",
              "            switch(feature.id) {\n",
              "                default:\n",
              "                    return {&quot;fillOpacity&quot;: 0.5, &quot;weight&quot;: 2};\n",
              "            }\n",
              "        }\n",
              "        function geo_json_4361b8c7c1b1c2d105c0db1437bad000_highlighter(feature) {\n",
              "            switch(feature.id) {\n",
              "                default:\n",
              "                    return {&quot;fillOpacity&quot;: 0.75};\n",
              "            }\n",
              "        }\n",
              "        function geo_json_4361b8c7c1b1c2d105c0db1437bad000_pointToLayer(feature, latlng) {\n",
              "            var opts = {&quot;bubblingMouseEvents&quot;: true, &quot;color&quot;: &quot;#3388ff&quot;, &quot;dashArray&quot;: null, &quot;dashOffset&quot;: null, &quot;fill&quot;: true, &quot;fillColor&quot;: &quot;#3388ff&quot;, &quot;fillOpacity&quot;: 0.2, &quot;fillRule&quot;: &quot;evenodd&quot;, &quot;lineCap&quot;: &quot;round&quot;, &quot;lineJoin&quot;: &quot;round&quot;, &quot;opacity&quot;: 1.0, &quot;radius&quot;: 2, &quot;stroke&quot;: true, &quot;weight&quot;: 3};\n",
              "            \n",
              "            let style = geo_json_4361b8c7c1b1c2d105c0db1437bad000_styler(feature)\n",
              "            Object.assign(opts, style)\n",
              "            \n",
              "            return new L.CircleMarker(latlng, opts)\n",
              "        }\n",
              "\n",
              "        function geo_json_4361b8c7c1b1c2d105c0db1437bad000_onEachFeature(feature, layer) {\n",
              "            layer.on({\n",
              "                mouseout: function(e) {\n",
              "                    if(typeof e.target.setStyle === &quot;function&quot;){\n",
              "                        geo_json_4361b8c7c1b1c2d105c0db1437bad000.resetStyle(e.target);\n",
              "                    }\n",
              "                },\n",
              "                mouseover: function(e) {\n",
              "                    if(typeof e.target.setStyle === &quot;function&quot;){\n",
              "                        const highlightStyle = geo_json_4361b8c7c1b1c2d105c0db1437bad000_highlighter(e.target.feature)\n",
              "                        e.target.setStyle(highlightStyle);\n",
              "                    }\n",
              "                },\n",
              "            });\n",
              "        };\n",
              "        var geo_json_4361b8c7c1b1c2d105c0db1437bad000 = L.geoJson(null, {\n",
              "                onEachFeature: geo_json_4361b8c7c1b1c2d105c0db1437bad000_onEachFeature,\n",
              "            \n",
              "                style: geo_json_4361b8c7c1b1c2d105c0db1437bad000_styler,\n",
              "                pointToLayer: geo_json_4361b8c7c1b1c2d105c0db1437bad000_pointToLayer\n",
              "        });\n",
              "\n",
              "        function geo_json_4361b8c7c1b1c2d105c0db1437bad000_add (data) {\n",
              "            geo_json_4361b8c7c1b1c2d105c0db1437bad000\n",
              "                .addData(data)\n",
              "                .addTo(map_754cfb2a1daffd8dbad6e48fbb6a6835);\n",
              "        }\n",
              "            geo_json_4361b8c7c1b1c2d105c0db1437bad000_add({&quot;bbox&quot;: [-122.25708486022732, 37.49175622169153, -122.2427118156814, 37.50315951275425], &quot;features&quot;: [{&quot;bbox&quot;: [-122.25708486022732, 37.49175622169153, -122.2427118156814, 37.50315951275425], &quot;geometry&quot;: {&quot;coordinates&quot;: [[[-122.2427118156814, 37.497458084887775], [-122.24274642075041, 37.49689922380606], [-122.24284990269177, 37.49634574073993], [-122.24302126491776, 37.49580296621228], [-122.24325885711644, 37.495276127728154], [-122.24356039114514, 37.49477029941996], [-122.24392296306627, 37.49429035316577], [-122.24434308111404, 37.49384091165225], [-122.244816699322, 37.49342630383482], [-122.24533925648791, 37.493050523224866], [-122.24590572010058, 37.49271718940653], [-122.24651063480576, 37.492429513154626], [-122.24714817494417, 37.49219026549059], [-122.24781220065577, 37.49200175097514], [-122.24849631700994, 37.49186578549589], [-122.24919393559226, 37.49178367876433], [-122.24989833795438, 37.49175622169153], [-122.25060274031645, 37.49178367876433], [-122.25130035889879, 37.49186578549589], [-122.25198447525294, 37.49200175097514], [-122.25264850096455, 37.49219026549059], [-122.25328604110297, 37.492429513154626], [-122.25389095580815, 37.49271718940653], [-122.2544574194208, 37.493050523224866], [-122.25497997658671, 37.49342630383482], [-122.25545359479467, 37.49384091165225], [-122.25587371284247, 37.49429035316577], [-122.25623628476359, 37.49477029941996], [-122.25653781879228, 37.495276127728154], [-122.256775410991, 37.49580296621228], [-122.25694677321698, 37.49634574073993], [-122.25705025515832, 37.49689922380606], [-122.25708486022732, 37.497458084887775], [-122.25705025515832, 37.498016941787135], [-122.25694677321698, 37.49857041246687], [-122.256775410991, 37.49911316688012], [-122.25653781879228, 37.49963997829483], [-122.25623628476359, 37.50014577361884], [-122.25587371284247, 37.50062568224165], [-122.25545359479467, 37.50107508292274], [-122.25497997658671, 37.50148964827584], [-122.2544574194208, 37.50186538642149], [-122.25389095580815, 37.5021986794074], [-122.25328604110297, 37.50248631802791], [-122.25264850096455, 37.50272553270776], [-122.25198447525294, 37.50291402015379], [-122.25130035889879, 37.50304996551865], [-122.25060274031645, 37.50313205986382], [-122.24989833795438, 37.50315951275425], [-122.24919393559226, 37.50313205986382], [-122.24849631700994, 37.50304996551865], [-122.24781220065577, 37.50291402015379], [-122.24714817494417, 37.50272553270776], [-122.24651063480576, 37.50248631802791], [-122.24590572010058, 37.5021986794074], [-122.24533925648791, 37.50186538642149], [-122.244816699322, 37.50148964827584], [-122.24434308111404, 37.50107508292274], [-122.24392296306627, 37.50062568224165], [-122.24356039114514, 37.50014577361884], [-122.24325885711644, 37.49963997829483], [-122.24302126491776, 37.49911316688012], [-122.24284990269177, 37.49857041246687], [-122.24274642075041, 37.498016941787135], [-122.2427118156814, 37.497458084887775]]], &quot;type&quot;: &quot;Polygon&quot;}, &quot;id&quot;: &quot;0&quot;, &quot;properties&quot;: {}, &quot;type&quot;: &quot;Feature&quot;}], &quot;type&quot;: &quot;FeatureCollection&quot;});\n",
              "\n",
              "        \n",
              "    \n",
              "            var layer_control_abda058821da50b4f2405169ef4cecc1 = {\n",
              "                base_layers : {\n",
              "                    &quot;https://a.basemaps.cartocdn.com/light_all/{z}/{x}/{y}{r}.png&quot; : tile_layer_c3202b733e24836a8e715ff0d21ba8c7,\n",
              "                },\n",
              "                overlays :  {\n",
              "                    &quot;macro_element_4361b8c7c1b1c2d105c0db1437bad000&quot; : geo_json_4361b8c7c1b1c2d105c0db1437bad000,\n",
              "                },\n",
              "            };\n",
              "            L.control.layers(\n",
              "                layer_control_abda058821da50b4f2405169ef4cecc1.base_layers,\n",
              "                layer_control_abda058821da50b4f2405169ef4cecc1.overlays,\n",
              "                {&quot;autoZIndex&quot;: true, &quot;collapsed&quot;: true, &quot;position&quot;: &quot;topright&quot;}\n",
              "            ).addTo(map_754cfb2a1daffd8dbad6e48fbb6a6835);\n",
              "        \n",
              "&lt;/script&gt;\" style=\"position:absolute;width:100%;height:100%;left:0;top:0;border:none !important;\" allowfullscreen webkitallowfullscreen mozallowfullscreen></iframe></div></div>"
            ],
            "text/plain": [
              "<folium.folium.Map at 0x7fbf62981d30>"
            ]
          },
          "execution_count": 6,
          "metadata": {},
          "output_type": "execute_result"
        }
      ],
      "source": [
        "m = boundary.explore(tiles='CartoDB positron')\n",
        "folium.LayerControl().add_to(m)\n",
        "m"
      ]
    },
    {
      "cell_type": "code",
      "execution_count": null,
      "id": "2572b4b5-6346-4cd3-81aa-1db3a0b2ac0e",
      "metadata": {
        "id": "2572b4b5-6346-4cd3-81aa-1db3a0b2ac0e"
      },
      "outputs": [],
      "source": [
        "grid_size = 200\n",
        "# Get the extent of the shapefile\n",
        "# Get minX, minY, maxX, maxY\n",
        "boundary = boundary.to_crs(\"EPSG:3857\")\n",
        "minX, minY, maxX, maxY = boundary.total_bounds"
      ]
    },
    {
      "cell_type": "code",
      "execution_count": null,
      "id": "4b4e8362-278b-47ad-8f1e-7406c0a97bc9",
      "metadata": {
        "id": "4b4e8362-278b-47ad-8f1e-7406c0a97bc9",
        "outputId": "b74ba4ac-7015-4111-cd54-96fda5981fcb"
      },
      "outputs": [
        {
          "data": {
            "text/plain": [
              "(-13609596.432510542,\n",
              " 4507874.729953957,\n",
              " -13607996.432510542,\n",
              " 4509474.729953957)"
            ]
          },
          "execution_count": 8,
          "metadata": {},
          "output_type": "execute_result"
        }
      ],
      "source": [
        "minX, minY, maxX, maxY"
      ]
    },
    {
      "cell_type": "code",
      "execution_count": null,
      "id": "102f234f-16da-4f32-9c90-3f0d24d8d054",
      "metadata": {
        "id": "102f234f-16da-4f32-9c90-3f0d24d8d054"
      },
      "outputs": [],
      "source": [
        "# Create a fishnet\n",
        "x, y = (minX, minY)\n",
        "geom_array = []\n",
        "\n",
        "while y <= maxY:\n",
        "    while x <= maxX:\n",
        "        geom = geometry.Polygon([(x,y), (x, y+grid_size), (x+grid_size, y+grid_size), (x+grid_size, y), (x, y)])\n",
        "        geom_array.append(geom)\n",
        "        x += grid_size\n",
        "    x = minX\n",
        "    y += grid_size\n",
        "\n",
        "fishnet = gpd.GeoDataFrame(geom_array, columns=['geometry']).set_crs(boundary.crs)"
      ]
    },
    {
      "cell_type": "code",
      "execution_count": null,
      "id": "0bdd513f-0d50-434a-aab3-cffe096c5f6d",
      "metadata": {
        "id": "0bdd513f-0d50-434a-aab3-cffe096c5f6d"
      },
      "outputs": [],
      "source": [
        "grid_gdf = fishnet.sjoin(boundary, how = 'inner')"
      ]
    },
    {
      "cell_type": "code",
      "execution_count": null,
      "id": "15cfbd5a-5b43-4671-a6e6-32872908d762",
      "metadata": {
        "id": "15cfbd5a-5b43-4671-a6e6-32872908d762"
      },
      "outputs": [],
      "source": [
        "m = grid_gdf.explore(tiles='CartoDB positron')\n",
        "folium.LayerControl().add_to(m)\n",
        "m"
      ]
    },
    {
      "cell_type": "code",
      "execution_count": null,
      "id": "28837060-927b-455a-a8fa-430f72c71a28",
      "metadata": {
        "id": "28837060-927b-455a-a8fa-430f72c71a28"
      },
      "outputs": [],
      "source": []
    }
  ],
  "metadata": {
    "kernelspec": {
      "display_name": "Python 3 (ipykernel)",
      "language": "python",
      "name": "python3"
    },
    "language_info": {
      "codemirror_mode": {
        "name": "ipython",
        "version": 3
      },
      "file_extension": ".py",
      "mimetype": "text/x-python",
      "name": "python",
      "nbconvert_exporter": "python",
      "pygments_lexer": "ipython3",
      "version": "3.8.2"
    },
    "colab": {
      "provenance": []
    }
  },
  "nbformat": 4,
  "nbformat_minor": 5
}