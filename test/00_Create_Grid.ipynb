{
 "cells": [
  {
   "cell_type": "code",
   "execution_count": 2,
   "id": "06c54985-5b93-40c2-b13e-f90113a9fdda",
   "metadata": {},
   "outputs": [],
   "source": [
    "import os\n",
    "os.environ['USE_PYGEOS'] = '0'\n",
    "import geopandas as gpd\n",
    "from shapely import geometry\n",
    "# import folium\n",
    "import pandas as pd"
   ]
  },
  {
   "cell_type": "code",
   "execution_count": null,
   "id": "2d4adaf5-c88c-4d96-89d0-7a443bee9f9b",
   "metadata": {},
   "outputs": [],
   "source": [
    " \n",
    "# def create_grid(lat, lng, radius, size):\n",
    "#     # point from lat, lng\n",
    "#     df = pd.DataFrame({'lat': [37.49745808488778], 'lng': [-122.24989833795438]})\n",
    "#     point = gpd.GeoDataFrame(df, geometry=gpd.points_from_xy(df['lng'], df['lat'],crs=\"EPSG:4326\"))\n",
    "\n",
    "#     # boundary file\n",
    "#     # distance in meters\n",
    "#     boundary = point.to_crs('EPSG:3857').buffer(distance = radius)\n",
    "#     grid_size = size\n",
    "\n",
    "#     # Get the extent of the shapefile\n",
    "#     # Get minX, minY, maxX, maxY\n",
    "#     boundary = boundary.to_crs(\"EPSG:3857\")\n",
    "#     minX, minY, maxX, maxY = boundary.total_bounds\n",
    "#     # Create a fishnet\n",
    "#     x, y = (minX, minY)\n",
    "#     geom_array = []\n",
    "\n",
    "#     while y <= maxY:\n",
    "#         while x <= maxX:\n",
    "#             geom = geometry.Polygon([(x,y), (x, y+grid_size), (x+grid_size, y+grid_size), (x+grid_size, y), (x, y)])\n",
    "#             geom_array.append(geom)\n",
    "#             x += grid_size\n",
    "#         x = minX\n",
    "#         y += grid_size\n",
    "\n",
    "#     fishnet = gpd.GeoDataFrame(geom_array, columns=['geometry']).set_crs(boundary.crs)\n",
    "#     boundary = gpd.GeoDataFrame(boundary)\n",
    "#     boundary = boundary.set_geometry(boundary[0])\n",
    "#     boundary = boundary.drop([0],axis = 1)\n",
    "\n",
    "#     grid_gdf = fishnet.sjoin(boundary, how = 'inner')\n",
    "#     grid_gdf = grid_gdf.drop(['index_right'],axis = 1)\n",
    "\n",
    "#     return grid_gdf"
   ]
  },
  {
   "cell_type": "code",
   "execution_count": null,
   "id": "71db3a94-92c6-418a-915b-0ee601f439b4",
   "metadata": {},
   "outputs": [],
   "source": [
    "\n",
    "df = pd.DataFrame({'lat': [37.49745808488778], 'lng': [-122.24989833795438]})\n",
    "point = gpd.GeoDataFrame(df, geometry=gpd.points_from_xy(df['lng'], df['lat'],crs=\"EPSG:4326\"))\n",
    "# boundary file\n",
    "# distance in meters\n",
    "boundary = point.to_crs('EPSG:3857').buffer(distance = 800)\n",
    "grid_size = 200\n",
    "# Get the extent of the shapefile\n",
    "# Get minX, minY, maxX, maxY\n",
    "boundary = boundary.to_crs(\"EPSG:3857\")\n",
    "minX, minY, maxX, maxY = boundary.total_bounds\n",
    "# Create a fishnet\n",
    "x, y = (minX, minY)\n",
    "geom_array = []\n",
    "\n",
    "while y <= maxY:\n",
    "    while x <= maxX:\n",
    "        geom = geometry.Polygon([(x,y), (x, y+grid_size), (x+grid_size, y+grid_size), (x+grid_size, y), (x, y)])\n",
    "        geom_array.append(geom)\n",
    "        x += grid_size\n",
    "    x = minX\n",
    "    y += grid_size\n",
    "\n",
    "fishnet = gpd.GeoDataFrame(geom_array, columns=['geometry']).set_crs(boundary.crs)\n",
    "boundary = gpd.GeoDataFrame(boundary)\n",
    "boundary = boundary.set_geometry(boundary[0])\n",
    "boundary = boundary.drop([0],axis = 1)\n",
    "grid_gdf = fishnet.sjoin(boundary, how = 'inner')\n",
    "grid_gdf = grid_gdf.drop(['index_right'],axis = 1)\n"
   ]
  },
  {
   "cell_type": "code",
   "execution_count": null,
   "id": "eceee9d6",
   "metadata": {},
   "outputs": [],
   "source": []
  }
 ],
 "metadata": {
  "kernelspec": {
   "display_name": "Python 3 (ipykernel)",
   "language": "python",
   "name": "python3"
  },
  "language_info": {
   "codemirror_mode": {
    "name": "ipython",
    "version": 3
   },
   "file_extension": ".py",
   "mimetype": "text/x-python",
   "name": "python",
   "nbconvert_exporter": "python",
   "pygments_lexer": "ipython3",
   "version": "3.11.0"
  }
 },
 "nbformat": 4,
 "nbformat_minor": 5
}
