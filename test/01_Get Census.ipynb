{
 "cells": [
  {
   "cell_type": "code",
   "execution_count": 1,
   "metadata": {},
   "outputs": [],
   "source": [
    "import pandas as pd\n",
    "from census import Census"
   ]
  },
  {
   "cell_type": "code",
   "execution_count": 35,
   "metadata": {},
   "outputs": [],
   "source": [
    "# Get Variable Code\n",
    "def get_acs_code(var_select,filepath = '../data/acs_variable_code.csv'):\n",
    "    acs_code_df = pd.read_csv(filepath)\n",
    "    acs_dict = {}\n",
    "    for i in range(len(acs_code_df)):\n",
    "        acs_dict[acs_code_df.loc[i,'Variable Name']] = acs_code_df.loc[i,'Variable Code']\n",
    "\n",
    "    code_list = ['NAME']\n",
    "    for f in var_select:\n",
    "        code_list.append(acs_dict[f])\n",
    "    return tuple(code_list), acs_dict\n"
   ]
  },
  {
   "cell_type": "code",
   "execution_count": 36,
   "metadata": {},
   "outputs": [
    {
     "name": "stdout",
     "output_type": "stream",
     "text": [
      "('NAME', 'B01003_001E', 'B25001_001E')\n"
     ]
    }
   ],
   "source": [
    "code_list,acs_dict = get_acs_code(var_select=['Total Population', 'Total Housing Units'],filepath = '../data/acs_variable_code.csv')\n",
    "print(code_list)"
   ]
  },
  {
   "cell_type": "code",
   "execution_count": 12,
   "metadata": {},
   "outputs": [],
   "source": [
    "import requests\n",
    "def get_fips_code(lat, lon):\n",
    "    url = \"https://geo.fcc.gov/api/census/block/find\"\n",
    "    params = {\n",
    "        \"latitude\": lat,\n",
    "        \"longitude\": lon,\n",
    "        \"format\": \"json\"\n",
    "    }\n",
    "    response = requests.get(url, params=params)\n",
    "    data = response.json()\n",
    "    state_fips = data[\"State\"][\"FIPS\"]\n",
    "    state_name = data[\"State\"][\"name\"]\n",
    "    county_fips = data[\"County\"][\"FIPS\"]\n",
    "    county_name = data[\"County\"][\"name\"]\n",
    "    return state_fips,state_name, county_fips, county_name\n"
   ]
  },
  {
   "cell_type": "code",
   "execution_count": 23,
   "metadata": {},
   "outputs": [],
   "source": [
    "def get_file_contents(filename):\n",
    "    \"\"\" Given a filename,\n",
    "        return the contents of that file\n",
    "    \"\"\"\n",
    "    try:\n",
    "        with open(filename, 'r') as f:\n",
    "            # It's assumed our file contains a single line,\n",
    "            # with our API key\n",
    "            return f.read().strip()\n",
    "    except FileNotFoundError:\n",
    "        print(\"'%s' file not found\" % filename)\n"
   ]
  },
  {
   "cell_type": "code",
   "execution_count": 25,
   "metadata": {},
   "outputs": [
    {
     "name": "stdout",
     "output_type": "stream",
     "text": [
      "('NAME', 'B01003_001E', 'B25001_001E')\n",
      "06 06075\n"
     ]
    }
   ],
   "source": [
    "api_file = '/Users/caoguangyue/GitHub/Urban-Design-Equity-Metrics/app/census_api_key.txt'\n",
    "api_key = get_file_contents(api_file)\n",
    "c = Census(api_key)\n",
    "# Replace with Input from lat, lng\n",
    "state_fips, state_name, county_fips, county_name = get_fips_code(37.7749, -122.4194)\n",
    "print(code_list)\n",
    "print(state_fips, county_fips)\n"
   ]
  },
  {
   "cell_type": "code",
   "execution_count": 29,
   "metadata": {},
   "outputs": [],
   "source": [
    "\n",
    "sc_census = c.acs5.state_county_blockgroup(fields= code_list, \n",
    "                                           state_fips = str(state_fips), \n",
    "                                           county_fips = str(county_fips[2::]), \n",
    "                                           blockgroup = '*', \n",
    "                                           year = 2019)\n"
   ]
  },
  {
   "cell_type": "code",
   "execution_count": 37,
   "metadata": {},
   "outputs": [
    {
     "data": {
      "text/html": [
       "<div>\n",
       "<style scoped>\n",
       "    .dataframe tbody tr th:only-of-type {\n",
       "        vertical-align: middle;\n",
       "    }\n",
       "\n",
       "    .dataframe tbody tr th {\n",
       "        vertical-align: top;\n",
       "    }\n",
       "\n",
       "    .dataframe thead th {\n",
       "        text-align: right;\n",
       "    }\n",
       "</style>\n",
       "<table border=\"1\" class=\"dataframe\">\n",
       "  <thead>\n",
       "    <tr style=\"text-align: right;\">\n",
       "      <th></th>\n",
       "      <th>NAME</th>\n",
       "      <th>Total Population</th>\n",
       "      <th>Total Housing Units</th>\n",
       "      <th>state</th>\n",
       "      <th>county</th>\n",
       "      <th>tract</th>\n",
       "      <th>block group</th>\n",
       "      <th>geoid</th>\n",
       "    </tr>\n",
       "  </thead>\n",
       "  <tbody>\n",
       "    <tr>\n",
       "      <th>0</th>\n",
       "      <td>Block Group 4, Census Tract 452, San Francisco...</td>\n",
       "      <td>1029.0</td>\n",
       "      <td>469.0</td>\n",
       "      <td>06</td>\n",
       "      <td>075</td>\n",
       "      <td>045200</td>\n",
       "      <td>4</td>\n",
       "      <td>060750452004</td>\n",
       "    </tr>\n",
       "    <tr>\n",
       "      <th>1</th>\n",
       "      <td>Block Group 2, Census Tract 452, San Francisco...</td>\n",
       "      <td>1838.0</td>\n",
       "      <td>892.0</td>\n",
       "      <td>06</td>\n",
       "      <td>075</td>\n",
       "      <td>045200</td>\n",
       "      <td>2</td>\n",
       "      <td>060750452002</td>\n",
       "    </tr>\n",
       "    <tr>\n",
       "      <th>2</th>\n",
       "      <td>Block Group 5, Census Tract 452, San Francisco...</td>\n",
       "      <td>1493.0</td>\n",
       "      <td>539.0</td>\n",
       "      <td>06</td>\n",
       "      <td>075</td>\n",
       "      <td>045200</td>\n",
       "      <td>5</td>\n",
       "      <td>060750452005</td>\n",
       "    </tr>\n",
       "    <tr>\n",
       "      <th>3</th>\n",
       "      <td>Block Group 1, Census Tract 111, San Francisco...</td>\n",
       "      <td>1755.0</td>\n",
       "      <td>1296.0</td>\n",
       "      <td>06</td>\n",
       "      <td>075</td>\n",
       "      <td>011100</td>\n",
       "      <td>1</td>\n",
       "      <td>060750111001</td>\n",
       "    </tr>\n",
       "    <tr>\n",
       "      <th>4</th>\n",
       "      <td>Block Group 1, Census Tract 117, San Francisco...</td>\n",
       "      <td>859.0</td>\n",
       "      <td>586.0</td>\n",
       "      <td>06</td>\n",
       "      <td>075</td>\n",
       "      <td>011700</td>\n",
       "      <td>1</td>\n",
       "      <td>060750117001</td>\n",
       "    </tr>\n",
       "  </tbody>\n",
       "</table>\n",
       "</div>"
      ],
      "text/plain": [
       "                                                NAME  Total Population  \\\n",
       "0  Block Group 4, Census Tract 452, San Francisco...            1029.0   \n",
       "1  Block Group 2, Census Tract 452, San Francisco...            1838.0   \n",
       "2  Block Group 5, Census Tract 452, San Francisco...            1493.0   \n",
       "3  Block Group 1, Census Tract 111, San Francisco...            1755.0   \n",
       "4  Block Group 1, Census Tract 117, San Francisco...             859.0   \n",
       "\n",
       "   Total Housing Units state county   tract block group         geoid  \n",
       "0                469.0    06    075  045200           4  060750452004  \n",
       "1                892.0    06    075  045200           2  060750452002  \n",
       "2                539.0    06    075  045200           5  060750452005  \n",
       "3               1296.0    06    075  011100           1  060750111001  \n",
       "4                586.0    06    075  011700           1  060750117001  "
      ]
     },
     "execution_count": 37,
     "metadata": {},
     "output_type": "execute_result"
    }
   ],
   "source": [
    "#### 2. Feature engineering\n",
    "# Feature Engineering\n",
    "acs_df = pd.DataFrame(sc_census)\n",
    "acs_df['geoid'] = sc_df['state'] + sc_df['county'] + sc_df['tract'] + sc_df['block group']\n",
    "\n",
    "\n",
    "inv_acs_dict = {v: k for k, v in acs_dict.items()}\n",
    "acs_df.rename(columns=inv_acs_dict, inplace=True)\n",
    "\n",
    "acs_df.head()"
   ]
  }
 ],
 "metadata": {
  "kernelspec": {
   "display_name": "geo_env",
   "language": "python",
   "name": "python3"
  },
  "language_info": {
   "codemirror_mode": {
    "name": "ipython",
    "version": 3
   },
   "file_extension": ".py",
   "mimetype": "text/x-python",
   "name": "python",
   "nbconvert_exporter": "python",
   "pygments_lexer": "ipython3",
   "version": "3.11.0"
  },
  "orig_nbformat": 4
 },
 "nbformat": 4,
 "nbformat_minor": 2
}
