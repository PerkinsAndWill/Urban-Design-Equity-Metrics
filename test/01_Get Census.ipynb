{
 "cells": [
  {
   "cell_type": "code",
   "execution_count": 29,
   "metadata": {},
   "outputs": [],
   "source": [
    "import pandas as pd\n",
    "from census import Census"
   ]
  },
  {
   "cell_type": "code",
   "execution_count": 30,
   "metadata": {},
   "outputs": [
    {
     "ename": "SyntaxError",
     "evalue": "invalid syntax. Perhaps you forgot a comma? (2171837190.py, line 9)",
     "output_type": "error",
     "traceback": [
      "\u001b[0;36m  Cell \u001b[0;32mIn[30], line 9\u001b[0;36m\u001b[0m\n\u001b[0;31m    var_list.append(acs_dict{f})\u001b[0m\n\u001b[0m                    ^\u001b[0m\n\u001b[0;31mSyntaxError\u001b[0m\u001b[0;31m:\u001b[0m invalid syntax. Perhaps you forgot a comma?\n"
     ]
    }
   ],
   "source": [
    "# Get Variable Code\n",
    "acs_code_df = pd.read_csv('../data/acs_variable_code.csv')\n",
    "acs_dict = {}\n",
    "for i in range(len(acs_code_df)):\n",
    "    acs_dict[acs_code_df.loc[i,'Variable Name']] = acs_code_df.loc[i,'Variable Code']\n",
    "\n",
    "var_list = []\n",
    "for f in options:\n",
    "    var_list.append(acs_dict{f})"
   ]
  },
  {
   "cell_type": "code",
   "execution_count": 28,
   "metadata": {},
   "outputs": [],
   "source": [
    "\n",
    "def get_file_contents(filename):\n",
    "    \"\"\" Given a filename,\n",
    "        return the contents of that file\n",
    "    \"\"\"\n",
    "    try:\n",
    "        with open(filename, 'r') as f:\n",
    "            # It's assumed our file contains a single line,\n",
    "            # with our API key\n",
    "            return f.read().strip()\n",
    "    except FileNotFoundError:\n",
    "        print(\"'%s' file not found\" % filename)\n"
   ]
  },
  {
   "cell_type": "code",
   "execution_count": null,
   "metadata": {},
   "outputs": [],
   "source": [
    "api_file = 'census_api_key.txt'\n",
    "api_key = get_file_contents(api_file)\n",
    "c = Census(api_key)\n",
    "# Replace with Input from lat, lng\n",
    "state_fips = '06'\n",
    "county_fips = '085'\n",
    "\n",
    "sc_census = c.acs5.state_county_blockgroup(fields= var_list,\n",
    "                                      state_fips = state_fips,\n",
    "                                      county_fips = county_fips,\n",
    "                                      blockgroup = '*',\n",
    "                                      year = 2019)\n"
   ]
  },
  {
   "cell_type": "code",
   "execution_count": null,
   "metadata": {},
   "outputs": [],
   "source": [
    "#### 2. Feature engineering\n",
    "# Feature Engineering\n",
    "acs_df = pd.DataFrame(sc_census)\n",
    "acs_df['geoid'] = sc_df['state'] + sc_df['county'] + sc_df['tract'] + sc_df['block group']\n",
    "\n",
    "\n",
    "inv_acs_dict = {v: k for k, v in acs_dict.items()}\n",
    "acs_df.rename(columns=inv_acs_dict, inplace=True)\n",
    "\n",
    "acs_df.head()"
   ]
  }
 ],
 "metadata": {
  "kernelspec": {
   "display_name": "geo_env",
   "language": "python",
   "name": "python3"
  },
  "language_info": {
   "codemirror_mode": {
    "name": "ipython",
    "version": 3
   },
   "file_extension": ".py",
   "mimetype": "text/x-python",
   "name": "python",
   "nbconvert_exporter": "python",
   "pygments_lexer": "ipython3",
   "version": "3.11.0"
  },
  "orig_nbformat": 4
 },
 "nbformat": 4,
 "nbformat_minor": 2
}
