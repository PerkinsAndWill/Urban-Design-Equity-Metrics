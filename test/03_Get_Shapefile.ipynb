{
 "cells": [
  {
   "cell_type": "code",
   "execution_count": null,
   "metadata": {},
   "outputs": [],
   "source": [
    "import requests\n",
    "import pandas as pd\n",
    "from io import StringIO\n",
    "\n",
    "def get_block_group_geometry(state_fips, county_fips):\n",
    "    url = \"https://tigerweb.geo.census.gov/arcgis/rest/services/TIGERweb/tigerWMS_Current/MapServer/80/query\"\n",
    "    params = {\n",
    "        \"where\": f\"STATE='{state_fips}' AND COUNTY='{county_fips}'\",\n",
    "        \"outFields\": \"GEOID,Shape_Length,Shape_Area\",\n",
    "        \"returnGeometry\": \"true\",\n",
    "        \"geometryType\": \"esriGeometryPolygon\",\n",
    "        \"spatialRel\": \"esriSpatialRelIntersects\",\n",
    "        \"f\": \"pjson\"\n",
    "    }\n",
    "    response = requests.get(url, params=params)\n",
    "    data = response.json()\n",
    "    print(data)\n",
    "    features = data[\"features\"]\n",
    "    records = []\n",
    "    for feature in features:\n",
    "        record = feature[\"attributes\"]\n",
    "        geometry = feature[\"geometry\"]\n",
    "        record.update(geometry)\n",
    "        records.append(record)\n",
    "    df = pd.DataFrame(records)\n",
    "    return df\n",
    "\n",
    "state_fips = \"06\" # California\n",
    "county_fips = \"075\" # San Francisco County\n",
    "df = get_block_group_geometry(state_fips, county_fips)\n",
    "print(df.head())"
   ]
  }
 ],
 "metadata": {
  "language_info": {
   "name": "python"
  },
  "orig_nbformat": 4
 },
 "nbformat": 4,
 "nbformat_minor": 2
}
